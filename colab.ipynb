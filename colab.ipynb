{
  "nbformat": 4,
  "nbformat_minor": 0,
  "metadata": {
    "colab": {
      "name": "colab.ipynb",
      "provenance": []
    },
    "kernelspec": {
      "name": "python3",
      "display_name": "Python 3"
    },
    "accelerator": "TPU"
  },
  "cells": [
    {
      "cell_type": "markdown",
      "metadata": {
        "id": "4EymdFf7yp_U"
      },
      "source": [
        "# PARAMETERS\n",
        "**BEFORE YOU START**\n",
        "* **Kaggle dataset GCS path** from [here](https://www.kaggle.com/nadimsarwar/dataset/edit/run/53975496)\n",
        "* **UPLOAD DATA CONFIG**\n",
        "\n",
        "**SET THE FOLLOWING VARIABLES**\n",
        "```python\n",
        "  GCS_PATH    :    The raw path of kaggle gcs \n",
        "  EPOCHS      :    number of epochs  \n",
        "  BUFFER_SIZE :    shuffle size of the buffer    \n",
        "  MODEL_NAME  :    name of the saved model\n",
        "  TF_IDEN     :    name of the zipped folder\n",
        "  DATA_FOLDER :    tfrecords folder\n",
        "``` "
      ]
    },
    {
      "cell_type": "code",
      "metadata": {
        "colab": {
          "base_uri": "https://localhost:8080/"
        },
        "id": "Q4y7rTBIxjrc",
        "outputId": "1100b737-b5a4-4b90-9621-a562c284eaa6"
      },
      "source": [
        "GCS_PATH    =    \"gs://kds-274c8cae00f846ee82b14b260eb6a00e1660168cf097cbcae5e76b1a\"# @param \n",
        "MODEL_NAME  =    \"densenet121_bocr\"# @param\n",
        "TFIDEN      =    \"BOCR\"# @param\n",
        "DATA_FOLDER =    \"tfrecords\"# @param\n",
        "EPOCHS      =    250   #@param {type:\"slider\", min:10, max:500, step:10}  \n",
        "BUFFER_SIZE =    2048  # @param {type:\"slider\", min:128, max:2048, step:128}   \n",
        "WEIGHT_PATH =    f'{MODEL_NAME}.h5' \n",
        "\n",
        "GCS_PATH    =    f'{GCS_PATH}/{TFIDEN}/{TFIDEN}/{DATA_FOLDER}'\n",
        "print(GCS_PATH)\n",
        "print(WEIGHT_PATH)\n",
        "\n"
      ],
      "execution_count": 1,
      "outputs": [
        {
          "output_type": "stream",
          "text": [
            "gs://kds-274c8cae00f846ee82b14b260eb6a00e1660168cf097cbcae5e76b1a/BOCR/BOCR/tfrecords\n",
            "densenet121_bocr.h5\n"
          ],
          "name": "stdout"
        }
      ]
    },
    {
      "cell_type": "markdown",
      "metadata": {
        "id": "gRyKZA_u1Fh4"
      },
      "source": [
        "# Config Reading"
      ]
    },
    {
      "cell_type": "code",
      "metadata": {
        "id": "jzGG2S4T1FLH"
      },
      "source": [
        "import json\n",
        "\n",
        "with open('config.json') as f:\n",
        "  config = json.load(f)\n",
        "\n",
        "IMAGE_TYPE =  config['image_type']\n",
        "IMG_DIM    =  config['img_dim']\n",
        "LABELS     =  config['labels']\n",
        "NB_CHANNEL =  config['nb_channels']\n",
        "NB_CLASSES =  config['nb_classes']\n",
        "NB_TRAIN   =  config['nb_test_data']\n",
        "NB_TEST    =  config['nb_train_data']\n"
      ],
      "execution_count": 2,
      "outputs": []
    },
    {
      "cell_type": "markdown",
      "metadata": {
        "id": "piOjb1EY77j5"
      },
      "source": [
        "# DEFAULT OPS: TPU TFrecords"
      ]
    },
    {
      "cell_type": "markdown",
      "metadata": {
        "id": "ljnNX33-3oXh"
      },
      "source": [
        "## TPU initialize"
      ]
    },
    {
      "cell_type": "code",
      "metadata": {
        "colab": {
          "base_uri": "https://localhost:8080/"
        },
        "id": "U2calqzckRF0",
        "outputId": "fbfd8bad-d1dd-468c-c987-5fa4fb62c394"
      },
      "source": [
        "import tensorflow as tf \n",
        "import os \n",
        "\n",
        "\n",
        "print(tf.__version__)\n",
        "# Detect hardware, return appropriate distribution strategy\n",
        "try:\n",
        "    tpu = tf.distribute.cluster_resolver.TPUClusterResolver()  # TPU detection. No parameters necessary if TPU_NAME environment variable is set. On Kaggle this is always the case.\n",
        "    print('Running on TPU ', tpu.master())\n",
        "except ValueError:\n",
        "    tpu = None\n",
        "\n",
        "if tpu:\n",
        "    tf.config.experimental_connect_to_cluster(tpu)\n",
        "    tf.tpu.experimental.initialize_tpu_system(tpu)\n",
        "    strategy = tf.distribute.experimental.TPUStrategy(tpu)\n",
        "else:\n",
        "    strategy = tf.distribute.get_strategy() # default distribution strategy in Tensorflow. Works on CPU and single GPU.\n",
        "\n",
        "print(\"REPLICAS: \", strategy.num_replicas_in_sync)"
      ],
      "execution_count": 3,
      "outputs": [
        {
          "output_type": "stream",
          "text": [
            "2.4.1\n",
            "Running on TPU  grpc://10.46.119.178:8470\n",
            "INFO:tensorflow:Initializing the TPU system: grpc://10.46.119.178:8470\n"
          ],
          "name": "stdout"
        },
        {
          "output_type": "stream",
          "text": [
            "INFO:tensorflow:Initializing the TPU system: grpc://10.46.119.178:8470\n"
          ],
          "name": "stderr"
        },
        {
          "output_type": "stream",
          "text": [
            "INFO:tensorflow:Clearing out eager caches\n"
          ],
          "name": "stdout"
        },
        {
          "output_type": "stream",
          "text": [
            "INFO:tensorflow:Clearing out eager caches\n"
          ],
          "name": "stderr"
        },
        {
          "output_type": "stream",
          "text": [
            "INFO:tensorflow:Finished initializing TPU system.\n"
          ],
          "name": "stdout"
        },
        {
          "output_type": "stream",
          "text": [
            "INFO:tensorflow:Finished initializing TPU system.\n",
            "WARNING:absl:`tf.distribute.experimental.TPUStrategy` is deprecated, please use  the non experimental symbol `tf.distribute.TPUStrategy` instead.\n"
          ],
          "name": "stderr"
        },
        {
          "output_type": "stream",
          "text": [
            "INFO:tensorflow:Found TPU system:\n"
          ],
          "name": "stdout"
        },
        {
          "output_type": "stream",
          "text": [
            "INFO:tensorflow:Found TPU system:\n"
          ],
          "name": "stderr"
        },
        {
          "output_type": "stream",
          "text": [
            "INFO:tensorflow:*** Num TPU Cores: 8\n"
          ],
          "name": "stdout"
        },
        {
          "output_type": "stream",
          "text": [
            "INFO:tensorflow:*** Num TPU Cores: 8\n"
          ],
          "name": "stderr"
        },
        {
          "output_type": "stream",
          "text": [
            "INFO:tensorflow:*** Num TPU Workers: 1\n"
          ],
          "name": "stdout"
        },
        {
          "output_type": "stream",
          "text": [
            "INFO:tensorflow:*** Num TPU Workers: 1\n"
          ],
          "name": "stderr"
        },
        {
          "output_type": "stream",
          "text": [
            "INFO:tensorflow:*** Num TPU Cores Per Worker: 8\n"
          ],
          "name": "stdout"
        },
        {
          "output_type": "stream",
          "text": [
            "INFO:tensorflow:*** Num TPU Cores Per Worker: 8\n"
          ],
          "name": "stderr"
        },
        {
          "output_type": "stream",
          "text": [
            "INFO:tensorflow:*** Available Device: _DeviceAttributes(/job:localhost/replica:0/task:0/device:CPU:0, CPU, 0, 0)\n"
          ],
          "name": "stdout"
        },
        {
          "output_type": "stream",
          "text": [
            "INFO:tensorflow:*** Available Device: _DeviceAttributes(/job:localhost/replica:0/task:0/device:CPU:0, CPU, 0, 0)\n"
          ],
          "name": "stderr"
        },
        {
          "output_type": "stream",
          "text": [
            "INFO:tensorflow:*** Available Device: _DeviceAttributes(/job:worker/replica:0/task:0/device:CPU:0, CPU, 0, 0)\n"
          ],
          "name": "stdout"
        },
        {
          "output_type": "stream",
          "text": [
            "INFO:tensorflow:*** Available Device: _DeviceAttributes(/job:worker/replica:0/task:0/device:CPU:0, CPU, 0, 0)\n"
          ],
          "name": "stderr"
        },
        {
          "output_type": "stream",
          "text": [
            "INFO:tensorflow:*** Available Device: _DeviceAttributes(/job:worker/replica:0/task:0/device:TPU:0, TPU, 0, 0)\n"
          ],
          "name": "stdout"
        },
        {
          "output_type": "stream",
          "text": [
            "INFO:tensorflow:*** Available Device: _DeviceAttributes(/job:worker/replica:0/task:0/device:TPU:0, TPU, 0, 0)\n"
          ],
          "name": "stderr"
        },
        {
          "output_type": "stream",
          "text": [
            "INFO:tensorflow:*** Available Device: _DeviceAttributes(/job:worker/replica:0/task:0/device:TPU:1, TPU, 0, 0)\n"
          ],
          "name": "stdout"
        },
        {
          "output_type": "stream",
          "text": [
            "INFO:tensorflow:*** Available Device: _DeviceAttributes(/job:worker/replica:0/task:0/device:TPU:1, TPU, 0, 0)\n"
          ],
          "name": "stderr"
        },
        {
          "output_type": "stream",
          "text": [
            "INFO:tensorflow:*** Available Device: _DeviceAttributes(/job:worker/replica:0/task:0/device:TPU:2, TPU, 0, 0)\n"
          ],
          "name": "stdout"
        },
        {
          "output_type": "stream",
          "text": [
            "INFO:tensorflow:*** Available Device: _DeviceAttributes(/job:worker/replica:0/task:0/device:TPU:2, TPU, 0, 0)\n"
          ],
          "name": "stderr"
        },
        {
          "output_type": "stream",
          "text": [
            "INFO:tensorflow:*** Available Device: _DeviceAttributes(/job:worker/replica:0/task:0/device:TPU:3, TPU, 0, 0)\n"
          ],
          "name": "stdout"
        },
        {
          "output_type": "stream",
          "text": [
            "INFO:tensorflow:*** Available Device: _DeviceAttributes(/job:worker/replica:0/task:0/device:TPU:3, TPU, 0, 0)\n"
          ],
          "name": "stderr"
        },
        {
          "output_type": "stream",
          "text": [
            "INFO:tensorflow:*** Available Device: _DeviceAttributes(/job:worker/replica:0/task:0/device:TPU:4, TPU, 0, 0)\n"
          ],
          "name": "stdout"
        },
        {
          "output_type": "stream",
          "text": [
            "INFO:tensorflow:*** Available Device: _DeviceAttributes(/job:worker/replica:0/task:0/device:TPU:4, TPU, 0, 0)\n"
          ],
          "name": "stderr"
        },
        {
          "output_type": "stream",
          "text": [
            "INFO:tensorflow:*** Available Device: _DeviceAttributes(/job:worker/replica:0/task:0/device:TPU:5, TPU, 0, 0)\n"
          ],
          "name": "stdout"
        },
        {
          "output_type": "stream",
          "text": [
            "INFO:tensorflow:*** Available Device: _DeviceAttributes(/job:worker/replica:0/task:0/device:TPU:5, TPU, 0, 0)\n"
          ],
          "name": "stderr"
        },
        {
          "output_type": "stream",
          "text": [
            "INFO:tensorflow:*** Available Device: _DeviceAttributes(/job:worker/replica:0/task:0/device:TPU:6, TPU, 0, 0)\n"
          ],
          "name": "stdout"
        },
        {
          "output_type": "stream",
          "text": [
            "INFO:tensorflow:*** Available Device: _DeviceAttributes(/job:worker/replica:0/task:0/device:TPU:6, TPU, 0, 0)\n"
          ],
          "name": "stderr"
        },
        {
          "output_type": "stream",
          "text": [
            "INFO:tensorflow:*** Available Device: _DeviceAttributes(/job:worker/replica:0/task:0/device:TPU:7, TPU, 0, 0)\n"
          ],
          "name": "stdout"
        },
        {
          "output_type": "stream",
          "text": [
            "INFO:tensorflow:*** Available Device: _DeviceAttributes(/job:worker/replica:0/task:0/device:TPU:7, TPU, 0, 0)\n"
          ],
          "name": "stderr"
        },
        {
          "output_type": "stream",
          "text": [
            "INFO:tensorflow:*** Available Device: _DeviceAttributes(/job:worker/replica:0/task:0/device:TPU_SYSTEM:0, TPU_SYSTEM, 0, 0)\n"
          ],
          "name": "stdout"
        },
        {
          "output_type": "stream",
          "text": [
            "INFO:tensorflow:*** Available Device: _DeviceAttributes(/job:worker/replica:0/task:0/device:TPU_SYSTEM:0, TPU_SYSTEM, 0, 0)\n"
          ],
          "name": "stderr"
        },
        {
          "output_type": "stream",
          "text": [
            "INFO:tensorflow:*** Available Device: _DeviceAttributes(/job:worker/replica:0/task:0/device:XLA_CPU:0, XLA_CPU, 0, 0)\n"
          ],
          "name": "stdout"
        },
        {
          "output_type": "stream",
          "text": [
            "INFO:tensorflow:*** Available Device: _DeviceAttributes(/job:worker/replica:0/task:0/device:XLA_CPU:0, XLA_CPU, 0, 0)\n"
          ],
          "name": "stderr"
        },
        {
          "output_type": "stream",
          "text": [
            "REPLICAS:  8\n"
          ],
          "name": "stdout"
        }
      ]
    },
    {
      "cell_type": "markdown",
      "metadata": {
        "id": "kM2_ekih3sxP"
      },
      "source": [
        "## Training Params"
      ]
    },
    {
      "cell_type": "code",
      "metadata": {
        "id": "_fH9Ss4Y3iX3"
      },
      "source": [
        "BATCH_SIZE = 16 * strategy.num_replicas_in_sync\n",
        "TOTAL_DATA =  NB_TRAIN+NB_TEST \n",
        "STEPS_PER_EPOCH = TOTAL_DATA//BATCH_SIZE\n",
        "EVAL_STEPS      = NB_TEST//BATCH_SIZE"
      ],
      "execution_count": 5,
      "outputs": []
    },
    {
      "cell_type": "markdown",
      "metadata": {
        "id": "PKeTVSaM3uvJ"
      },
      "source": [
        "## Data input function"
      ]
    },
    {
      "cell_type": "code",
      "metadata": {
        "id": "QsIWYmcMt-8A"
      },
      "source": [
        "def data_input_fn(mode): \n",
        "    '''\n",
        "      This Function generates data from gcs\n",
        "    '''\n",
        "    \n",
        "    def _parser(example):\n",
        "        feature ={  'image'  : tf.io.FixedLenFeature((),tf.string) ,\n",
        "                    'label'  : tf.io.FixedLenFeature((),tf.int64)\n",
        "        }    \n",
        "        parsed_example=tf.io.parse_single_example(example,feature)\n",
        "        image_raw=parsed_example['image']\n",
        "        image=tf.image.decode_png(image_raw,channels=NB_CHANNEL)\n",
        "        image=tf.cast(image,tf.float32)/255.0\n",
        "        image=tf.reshape(image,(IMG_DIM,IMG_DIM,NB_CHANNEL))\n",
        "        \n",
        "        idx = tf.cast(parsed_example['label'], tf.int32)\n",
        "        label=tf.one_hot(idx,NB_CLASSES,dtype=tf.float32)\n",
        "        return image,label\n",
        "\n",
        "    gcs_pattern=os.path.join(GCS_PATH,mode,'*.tfrecord')\n",
        "    file_paths = tf.io.gfile.glob(gcs_pattern)\n",
        "    dataset = tf.data.TFRecordDataset(file_paths)\n",
        "    dataset = dataset.map(_parser)\n",
        "    dataset = dataset.shuffle(BUFFER_SIZE,reshuffle_each_iteration=True)\n",
        "    dataset = dataset.repeat()\n",
        "    dataset = dataset.batch(BATCH_SIZE,drop_remainder=True)\n",
        "    dataset = dataset.prefetch(tf.data.experimental.AUTOTUNE)\n",
        "    return dataset\n"
      ],
      "execution_count": 8,
      "outputs": []
    },
    {
      "cell_type": "markdown",
      "metadata": {
        "id": "HMs5mC_x3yIC"
      },
      "source": [
        "# Data Check"
      ]
    },
    {
      "cell_type": "code",
      "metadata": {
        "colab": {
          "base_uri": "https://localhost:8080/",
          "height": 370
        },
        "id": "p0MlgE8Auhzj",
        "outputId": "fb66dcb5-9613-42c0-f2ac-9110925fa9c7"
      },
      "source": [
        "import numpy as np\n",
        "import matplotlib.pyplot as plt\n",
        "%matplotlib inline\n",
        "\n",
        "train_ds  =   data_input_fn(\"train\")\n",
        "test_ds   =   data_input_fn(\"test\")\n",
        "\n",
        "\n",
        "for x,y in train_ds.take(1):\n",
        "    data=np.squeeze(x[0])\n",
        "    plt.imshow(data)\n",
        "    plt.show()\n",
        "    print('Image Batch Shape:',x.shape)\n",
        "    print('Target Batch Shape:',y.shape)\n",
        "    print(y[0])"
      ],
      "execution_count": 9,
      "outputs": [
        {
          "output_type": "display_data",
          "data": {
            "image/png": "[encoded data removed]",
            "text/plain": [
              "<Figure size 432x288 with 1 Axes>"
            ]
          },
          "metadata": {
            "tags": [],
            "needs_background": "light"
          }
        },
        {
          "output_type": "stream",
          "text": [
            "Image Batch Shape: (128, 128, 128, 1)\n",
            "Target Batch Shape: (128, 50)\n",
            "tf.Tensor(\n",
            "[0. 0. 0. 0. 0. 0. 0. 0. 0. 0. 0. 0. 0. 0. 0. 0. 0. 0. 0. 0. 0. 0. 0. 0.\n",
            " 0. 1. 0. 0. 0. 0. 0. 0. 0. 0. 0. 0. 0. 0. 0. 0. 0. 0. 0. 0. 0. 0. 0. 0.\n",
            " 0. 0.], shape=(50,), dtype=float32)\n"
          ],
          "name": "stdout"
        }
      ]
    },
    {
      "cell_type": "markdown",
      "metadata": {
        "id": "-FUNg8BYfq4J"
      },
      "source": [
        "# MODEL definition\n",
        "**THIS IS CHANGEABLE**"
      ]
    },
    {
      "cell_type": "code",
      "metadata": {
        "colab": {
          "base_uri": "https://localhost:8080/"
        },
        "id": "ycvTi0GIvelK",
        "outputId": "e78bbeec-c21b-41cf-e086-8d085ea5b282"
      },
      "source": [
        "from tensorflow.keras.applications import DenseNet121\n",
        "with strategy.scope():\n",
        "    rnet = DenseNet121(\n",
        "        input_shape=(IMG_DIM,IMG_DIM,NB_CHANNEL),\n",
        "        weights=None,\n",
        "        include_top=False\n",
        "    )\n",
        "    # trainable rnet\n",
        "    rnet.trainable = True\n",
        "    model = tf.keras.Sequential([\n",
        "        rnet,\n",
        "        tf.keras.layers.GlobalAveragePooling2D(),\n",
        "        tf.keras.layers.Dense(NB_CLASSES, activation='softmax',dtype='float32')\n",
        "    ])\n",
        "    model.compile(\n",
        "        optimizer='adam',\n",
        "        loss = 'categorical_crossentropy',\n",
        "        metrics=['categorical_accuracy']\n",
        "    )\n",
        "\n",
        "model.summary()"
      ],
      "execution_count": 12,
      "outputs": [
        {
          "output_type": "stream",
          "text": [
            "Model: \"sequential\"\n",
            "_________________________________________________________________\n",
            "Layer (type)                 Output Shape              Param #   \n",
            "=================================================================\n",
            "densenet121 (Functional)     (None, 4, 4, 1024)        7031232   \n",
            "_________________________________________________________________\n",
            "global_average_pooling2d (Gl (None, 1024)              0         \n",
            "_________________________________________________________________\n",
            "dense (Dense)                (None, 50)                51250     \n",
            "=================================================================\n",
            "Total params: 7,082,482\n",
            "Trainable params: 6,998,834\n",
            "Non-trainable params: 83,648\n",
            "_________________________________________________________________\n"
          ],
          "name": "stdout"
        }
      ]
    },
    {
      "cell_type": "markdown",
      "metadata": {
        "id": "A3TKjiZchG9o"
      },
      "source": [
        "## Callbacks\n",
        "**CHANGABLE**"
      ]
    },
    {
      "cell_type": "code",
      "metadata": {
        "colab": {
          "base_uri": "https://localhost:8080/"
        },
        "id": "Q7_t5R56whLB",
        "outputId": "0b17d6a4-20ec-4f2c-cebe-9e9105c17062"
      },
      "source": [
        "\n",
        "# reduces learning rate on plateau\n",
        "lr_reducer = tf.keras.callbacks.ReduceLROnPlateau(factor=0.1,\n",
        "                                                  cooldown= 10,\n",
        "                                                  patience=10,\n",
        "                                                  verbose =1,\n",
        "                                                  min_lr=0.1e-5)\n",
        "\n",
        "mode_autosave = tf.keras.callbacks.ModelCheckpoint(WEIGHT_PATH,\n",
        "                                                  monitor='val_categorical_accuracy', \n",
        "                                                  mode = 'max', \n",
        "                                                  save_best_only=True, \n",
        "                                                  verbose=1, \n",
        "                                                  period =1)\n",
        "\n",
        "# stop learining as metric on validatopn stop increasing\n",
        "early_stopping = tf.keras.callbacks.EarlyStopping(patience=15, \n",
        "                                                  verbose=1, \n",
        "                                                  mode = 'auto') \n",
        "\n",
        "callbacks = [mode_autosave, lr_reducer,early_stopping ]\n"
      ],
      "execution_count": 13,
      "outputs": [
        {
          "output_type": "stream",
          "text": [
            "WARNING:tensorflow:`period` argument is deprecated. Please use `save_freq` to specify the frequency in number of batches seen.\n"
          ],
          "name": "stdout"
        },
        {
          "output_type": "stream",
          "text": [
            "WARNING:tensorflow:`period` argument is deprecated. Please use `save_freq` to specify the frequency in number of batches seen.\n"
          ],
          "name": "stderr"
        }
      ]
    },
    {
      "cell_type": "markdown",
      "metadata": {
        "id": "6wgjdJlu8Gy5"
      },
      "source": [
        "# MODELING"
      ]
    },
    {
      "cell_type": "markdown",
      "metadata": {
        "id": "Ep29kAKo4Bf9"
      },
      "source": [
        "## Model training"
      ]
    },
    {
      "cell_type": "code",
      "metadata": {
        "colab": {
          "base_uri": "https://localhost:8080/"
        },
        "id": "ZPMnZ7_wwZjt",
        "outputId": "676fbd06-ae64-448c-8b57-809d83ce781e"
      },
      "source": [
        "history = model.fit(train_ds,\n",
        "                    steps_per_epoch=STEPS_PER_EPOCH,\n",
        "                    epochs=EPOCHS,\n",
        "                    verbose=1, \n",
        "                    validation_data=test_ds,\n",
        "                    validation_steps=EVAL_STEPS,\n",
        "                    callbacks=callbacks)"
      ],
      "execution_count": 14,
      "outputs": [
        {
          "output_type": "stream",
          "text": [
            "Epoch 1/250\n",
            "117/117 [==============================] - 88s 187ms/step - loss: 1.9957 - categorical_accuracy: 0.5080 - val_loss: 5.5425 - val_categorical_accuracy: 0.0200\n",
            "\n",
            "Epoch 00001: val_categorical_accuracy improved from -inf to 0.01999, saving model to densenet121_bocr.h5\n",
            "Epoch 2/250\n",
            "117/117 [==============================] - 12s 106ms/step - loss: 0.2489 - categorical_accuracy: 0.9364 - val_loss: 6.5078 - val_categorical_accuracy: 0.0200\n",
            "\n",
            "Epoch 00002: val_categorical_accuracy did not improve from 0.01999\n",
            "Epoch 3/250\n",
            "117/117 [==============================] - 12s 105ms/step - loss: 0.1319 - categorical_accuracy: 0.9667 - val_loss: 6.0446 - val_categorical_accuracy: 0.0219\n",
            "\n",
            "Epoch 00003: val_categorical_accuracy improved from 0.01999 to 0.02193, saving model to densenet121_bocr.h5\n",
            "Epoch 4/250\n",
            "117/117 [==============================] - 12s 106ms/step - loss: 0.0921 - categorical_accuracy: 0.9744 - val_loss: 3.9788 - val_categorical_accuracy: 0.2371\n",
            "\n",
            "Epoch 00004: val_categorical_accuracy improved from 0.02193 to 0.23715, saving model to densenet121_bocr.h5\n",
            "Epoch 5/250\n",
            "117/117 [==============================] - 12s 105ms/step - loss: 0.0739 - categorical_accuracy: 0.9802 - val_loss: 0.4808 - val_categorical_accuracy: 0.8698\n",
            "\n",
            "Epoch 00005: val_categorical_accuracy improved from 0.23715 to 0.86979, saving model to densenet121_bocr.h5\n",
            "Epoch 6/250\n",
            "117/117 [==============================] - 12s 107ms/step - loss: 0.0577 - categorical_accuracy: 0.9823 - val_loss: 0.2378 - val_categorical_accuracy: 0.9367\n",
            "\n",
            "Epoch 00006: val_categorical_accuracy improved from 0.86979 to 0.93666, saving model to densenet121_bocr.h5\n",
            "Epoch 7/250\n",
            "117/117 [==============================] - 12s 105ms/step - loss: 0.0549 - categorical_accuracy: 0.9833 - val_loss: 0.1433 - val_categorical_accuracy: 0.9586\n",
            "\n",
            "Epoch 00007: val_categorical_accuracy improved from 0.93666 to 0.95859, saving model to densenet121_bocr.h5\n",
            "Epoch 8/250\n",
            "117/117 [==============================] - 12s 106ms/step - loss: 0.0407 - categorical_accuracy: 0.9892 - val_loss: 0.3808 - val_categorical_accuracy: 0.9004\n",
            "\n",
            "Epoch 00008: val_categorical_accuracy did not improve from 0.95859\n",
            "Epoch 9/250\n",
            "117/117 [==============================] - 12s 106ms/step - loss: 0.0211 - categorical_accuracy: 0.9949 - val_loss: 0.1403 - val_categorical_accuracy: 0.9647\n",
            "\n",
            "Epoch 00009: val_categorical_accuracy improved from 0.95859 to 0.96472, saving model to densenet121_bocr.h5\n",
            "Epoch 10/250\n",
            "117/117 [==============================] - 12s 106ms/step - loss: 0.0252 - categorical_accuracy: 0.9924 - val_loss: 0.2100 - val_categorical_accuracy: 0.9389\n",
            "\n",
            "Epoch 00010: val_categorical_accuracy did not improve from 0.96472\n",
            "Epoch 11/250\n",
            "117/117 [==============================] - 12s 106ms/step - loss: 0.0285 - categorical_accuracy: 0.9918 - val_loss: 0.2658 - val_categorical_accuracy: 0.9262\n",
            "\n",
            "Epoch 00011: val_categorical_accuracy did not improve from 0.96472\n",
            "Epoch 12/250\n",
            "117/117 [==============================] - 12s 104ms/step - loss: 0.0349 - categorical_accuracy: 0.9902 - val_loss: 0.5115 - val_categorical_accuracy: 0.8737\n",
            "\n",
            "Epoch 00012: val_categorical_accuracy did not improve from 0.96472\n",
            "Epoch 13/250\n",
            "117/117 [==============================] - 12s 105ms/step - loss: 0.0298 - categorical_accuracy: 0.9921 - val_loss: 0.7779 - val_categorical_accuracy: 0.8453\n",
            "\n",
            "Epoch 00013: val_categorical_accuracy did not improve from 0.96472\n",
            "Epoch 14/250\n",
            "117/117 [==============================] - 12s 105ms/step - loss: 0.0320 - categorical_accuracy: 0.9908 - val_loss: 0.2665 - val_categorical_accuracy: 0.9274\n",
            "\n",
            "Epoch 00014: val_categorical_accuracy did not improve from 0.96472\n",
            "Epoch 15/250\n",
            "117/117 [==============================] - 12s 106ms/step - loss: 0.0263 - categorical_accuracy: 0.9935 - val_loss: 0.1891 - val_categorical_accuracy: 0.9467\n",
            "\n",
            "Epoch 00015: val_categorical_accuracy did not improve from 0.96472\n",
            "Epoch 16/250\n",
            "117/117 [==============================] - 12s 105ms/step - loss: 0.0173 - categorical_accuracy: 0.9950 - val_loss: 0.1075 - val_categorical_accuracy: 0.9714\n",
            "\n",
            "Epoch 00016: val_categorical_accuracy improved from 0.96472 to 0.97144, saving model to densenet121_bocr.h5\n",
            "Epoch 17/250\n",
            "117/117 [==============================] - 12s 105ms/step - loss: 0.0096 - categorical_accuracy: 0.9974 - val_loss: 0.7469 - val_categorical_accuracy: 0.8111\n",
            "\n",
            "Epoch 00017: val_categorical_accuracy did not improve from 0.97144\n",
            "Epoch 18/250\n",
            "117/117 [==============================] - 12s 107ms/step - loss: 0.0170 - categorical_accuracy: 0.9948 - val_loss: 0.1518 - val_categorical_accuracy: 0.9582\n",
            "\n",
            "Epoch 00018: val_categorical_accuracy did not improve from 0.97144\n",
            "Epoch 19/250\n",
            "117/117 [==============================] - 12s 106ms/step - loss: 0.0217 - categorical_accuracy: 0.9936 - val_loss: 0.2706 - val_categorical_accuracy: 0.9289\n",
            "\n",
            "Epoch 00019: val_categorical_accuracy did not improve from 0.97144\n",
            "Epoch 20/250\n",
            "117/117 [==============================] - 12s 106ms/step - loss: 0.0273 - categorical_accuracy: 0.9922 - val_loss: 0.3600 - val_categorical_accuracy: 0.9092\n",
            "\n",
            "Epoch 00020: val_categorical_accuracy did not improve from 0.97144\n",
            "Epoch 21/250\n",
            "117/117 [==============================] - 12s 105ms/step - loss: 0.0322 - categorical_accuracy: 0.9908 - val_loss: 0.8746 - val_categorical_accuracy: 0.8316\n",
            "\n",
            "Epoch 00021: val_categorical_accuracy did not improve from 0.97144\n",
            "Epoch 22/250\n",
            "117/117 [==============================] - 12s 106ms/step - loss: 0.0232 - categorical_accuracy: 0.9919 - val_loss: 0.1685 - val_categorical_accuracy: 0.9640\n",
            "\n",
            "Epoch 00022: val_categorical_accuracy did not improve from 0.97144\n",
            "Epoch 23/250\n",
            "117/117 [==============================] - 12s 106ms/step - loss: 0.0095 - categorical_accuracy: 0.9974 - val_loss: 0.2114 - val_categorical_accuracy: 0.9524\n",
            "\n",
            "Epoch 00023: val_categorical_accuracy did not improve from 0.97144\n",
            "Epoch 24/250\n",
            "117/117 [==============================] - 12s 106ms/step - loss: 0.0176 - categorical_accuracy: 0.9954 - val_loss: 0.1065 - val_categorical_accuracy: 0.9740\n",
            "\n",
            "Epoch 00024: val_categorical_accuracy improved from 0.97144 to 0.97404, saving model to densenet121_bocr.h5\n",
            "Epoch 25/250\n",
            "117/117 [==============================] - 13s 108ms/step - loss: 0.0118 - categorical_accuracy: 0.9960 - val_loss: 0.1587 - val_categorical_accuracy: 0.9583\n",
            "\n",
            "Epoch 00025: val_categorical_accuracy did not improve from 0.97404\n",
            "Epoch 26/250\n",
            "117/117 [==============================] - 13s 108ms/step - loss: 0.0178 - categorical_accuracy: 0.9947 - val_loss: 0.5261 - val_categorical_accuracy: 0.8703\n",
            "\n",
            "Epoch 00026: val_categorical_accuracy did not improve from 0.97404\n",
            "Epoch 27/250\n",
            "117/117 [==============================] - 12s 105ms/step - loss: 0.0231 - categorical_accuracy: 0.9921 - val_loss: 0.1695 - val_categorical_accuracy: 0.9543\n",
            "\n",
            "Epoch 00027: val_categorical_accuracy did not improve from 0.97404\n",
            "Epoch 28/250\n",
            "117/117 [==============================] - 12s 106ms/step - loss: 0.0237 - categorical_accuracy: 0.9925 - val_loss: 0.1841 - val_categorical_accuracy: 0.9535\n",
            "\n",
            "Epoch 00028: val_categorical_accuracy did not improve from 0.97404\n",
            "Epoch 29/250\n",
            "117/117 [==============================] - 13s 109ms/step - loss: 0.0150 - categorical_accuracy: 0.9961 - val_loss: 0.1387 - val_categorical_accuracy: 0.9629\n",
            "\n",
            "Epoch 00029: val_categorical_accuracy did not improve from 0.97404\n",
            "Epoch 30/250\n",
            "117/117 [==============================] - 13s 109ms/step - loss: 0.0133 - categorical_accuracy: 0.9960 - val_loss: 0.0844 - val_categorical_accuracy: 0.9776\n",
            "\n",
            "Epoch 00030: val_categorical_accuracy improved from 0.97404 to 0.97757, saving model to densenet121_bocr.h5\n",
            "Epoch 31/250\n",
            "117/117 [==============================] - 12s 107ms/step - loss: 0.0040 - categorical_accuracy: 0.9991 - val_loss: 0.0704 - val_categorical_accuracy: 0.9814\n",
            "\n",
            "Epoch 00031: val_categorical_accuracy improved from 0.97757 to 0.98143, saving model to densenet121_bocr.h5\n",
            "Epoch 32/250\n",
            "117/117 [==============================] - 13s 107ms/step - loss: 0.0061 - categorical_accuracy: 0.9987 - val_loss: 0.1039 - val_categorical_accuracy: 0.9779\n",
            "\n",
            "Epoch 00032: val_categorical_accuracy did not improve from 0.98143\n",
            "Epoch 33/250\n",
            "117/117 [==============================] - 13s 110ms/step - loss: 0.0063 - categorical_accuracy: 0.9991 - val_loss: 0.0596 - val_categorical_accuracy: 0.9883\n",
            "\n",
            "Epoch 00033: val_categorical_accuracy improved from 0.98143 to 0.98832, saving model to densenet121_bocr.h5\n",
            "Epoch 34/250\n",
            "117/117 [==============================] - 12s 106ms/step - loss: 0.0037 - categorical_accuracy: 0.9989 - val_loss: 0.1666 - val_categorical_accuracy: 0.9632\n",
            "\n",
            "Epoch 00034: val_categorical_accuracy did not improve from 0.98832\n",
            "Epoch 35/250\n",
            "117/117 [==============================] - 12s 106ms/step - loss: 0.0249 - categorical_accuracy: 0.9925 - val_loss: 0.4598 - val_categorical_accuracy: 0.8936\n",
            "\n",
            "Epoch 00035: val_categorical_accuracy did not improve from 0.98832\n",
            "Epoch 36/250\n",
            "117/117 [==============================] - 12s 105ms/step - loss: 0.0281 - categorical_accuracy: 0.9914 - val_loss: 0.1505 - val_categorical_accuracy: 0.9637\n",
            "\n",
            "Epoch 00036: val_categorical_accuracy did not improve from 0.98832\n",
            "Epoch 37/250\n",
            "117/117 [==============================] - 13s 110ms/step - loss: 0.0167 - categorical_accuracy: 0.9955 - val_loss: 0.0882 - val_categorical_accuracy: 0.9778\n",
            "\n",
            "Epoch 00037: val_categorical_accuracy did not improve from 0.98832\n",
            "Epoch 38/250\n",
            "117/117 [==============================] - 13s 110ms/step - loss: 0.0042 - categorical_accuracy: 0.9986 - val_loss: 0.0586 - val_categorical_accuracy: 0.9853\n",
            "\n",
            "Epoch 00038: val_categorical_accuracy did not improve from 0.98832\n",
            "Epoch 39/250\n",
            "117/117 [==============================] - 13s 110ms/step - loss: 0.0023 - categorical_accuracy: 0.9990 - val_loss: 0.0788 - val_categorical_accuracy: 0.9809\n",
            "\n",
            "Epoch 00039: val_categorical_accuracy did not improve from 0.98832\n",
            "Epoch 40/250\n",
            "117/117 [==============================] - 13s 109ms/step - loss: 0.0030 - categorical_accuracy: 0.9992 - val_loss: 0.0657 - val_categorical_accuracy: 0.9832\n",
            "\n",
            "Epoch 00040: val_categorical_accuracy did not improve from 0.98832\n",
            "Epoch 41/250\n",
            "117/117 [==============================] - 13s 107ms/step - loss: 0.0085 - categorical_accuracy: 0.9975 - val_loss: 1.2631 - val_categorical_accuracy: 0.7959\n",
            "\n",
            "Epoch 00041: val_categorical_accuracy did not improve from 0.98832\n",
            "Epoch 42/250\n",
            "117/117 [==============================] - 12s 107ms/step - loss: 0.0302 - categorical_accuracy: 0.9912 - val_loss: 0.1843 - val_categorical_accuracy: 0.9564\n",
            "\n",
            "Epoch 00042: val_categorical_accuracy did not improve from 0.98832\n",
            "Epoch 43/250\n",
            "117/117 [==============================] - 12s 105ms/step - loss: 0.0258 - categorical_accuracy: 0.9916 - val_loss: 0.3332 - val_categorical_accuracy: 0.9245\n",
            "\n",
            "Epoch 00043: val_categorical_accuracy did not improve from 0.98832\n",
            "Epoch 44/250\n",
            "117/117 [==============================] - 12s 106ms/step - loss: 0.0131 - categorical_accuracy: 0.9966 - val_loss: 0.0656 - val_categorical_accuracy: 0.9831\n",
            "\n",
            "Epoch 00044: val_categorical_accuracy did not improve from 0.98832\n",
            "Epoch 45/250\n",
            "117/117 [==============================] - 13s 107ms/step - loss: 0.0054 - categorical_accuracy: 0.9988 - val_loss: 0.0767 - val_categorical_accuracy: 0.9793\n",
            "\n",
            "Epoch 00045: val_categorical_accuracy did not improve from 0.98832\n",
            "Epoch 46/250\n",
            "117/117 [==============================] - 13s 110ms/step - loss: 0.0082 - categorical_accuracy: 0.9976 - val_loss: 0.1368 - val_categorical_accuracy: 0.9701\n",
            "\n",
            "Epoch 00046: val_categorical_accuracy did not improve from 0.98832\n",
            "Epoch 47/250\n",
            "117/117 [==============================] - 13s 110ms/step - loss: 0.0187 - categorical_accuracy: 0.9950 - val_loss: 0.3393 - val_categorical_accuracy: 0.9388\n",
            "\n",
            "Epoch 00047: val_categorical_accuracy did not improve from 0.98832\n",
            "Epoch 48/250\n",
            "117/117 [==============================] - 13s 110ms/step - loss: 0.0189 - categorical_accuracy: 0.9941 - val_loss: 0.1947 - val_categorical_accuracy: 0.9577\n",
            "\n",
            "Epoch 00048: val_categorical_accuracy did not improve from 0.98832\n",
            "\n",
            "Epoch 00048: ReduceLROnPlateau reducing learning rate to 0.00010000000474974513.\n",
            "Epoch 49/250\n",
            "117/117 [==============================] - 13s 109ms/step - loss: 0.0069 - categorical_accuracy: 0.9978 - val_loss: 0.0688 - val_categorical_accuracy: 0.9840\n",
            "\n",
            "Epoch 00049: val_categorical_accuracy did not improve from 0.98832\n",
            "Epoch 50/250\n",
            "117/117 [==============================] - 13s 109ms/step - loss: 0.0013 - categorical_accuracy: 1.0000 - val_loss: 0.0571 - val_categorical_accuracy: 0.9865\n",
            "\n",
            "Epoch 00050: val_categorical_accuracy did not improve from 0.98832\n",
            "Epoch 51/250\n",
            "117/117 [==============================] - 13s 111ms/step - loss: 0.0011 - categorical_accuracy: 0.9998 - val_loss: 0.0550 - val_categorical_accuracy: 0.9876\n",
            "\n",
            "Epoch 00051: val_categorical_accuracy did not improve from 0.98832\n",
            "Epoch 52/250\n",
            "117/117 [==============================] - 13s 109ms/step - loss: 0.0010 - categorical_accuracy: 0.9999 - val_loss: 0.0535 - val_categorical_accuracy: 0.9878\n",
            "\n",
            "Epoch 00052: val_categorical_accuracy did not improve from 0.98832\n",
            "Epoch 53/250\n",
            "117/117 [==============================] - 13s 110ms/step - loss: 7.6646e-04 - categorical_accuracy: 0.9999 - val_loss: 0.0532 - val_categorical_accuracy: 0.9877\n",
            "\n",
            "Epoch 00053: val_categorical_accuracy did not improve from 0.98832\n",
            "Epoch 54/250\n",
            "117/117 [==============================] - 13s 109ms/step - loss: 7.1773e-04 - categorical_accuracy: 1.0000 - val_loss: 0.0533 - val_categorical_accuracy: 0.9878\n",
            "\n",
            "Epoch 00054: val_categorical_accuracy did not improve from 0.98832\n",
            "Epoch 55/250\n",
            "117/117 [==============================] - 13s 110ms/step - loss: 0.0010 - categorical_accuracy: 0.9997 - val_loss: 0.0532 - val_categorical_accuracy: 0.9889\n",
            "\n",
            "Epoch 00055: val_categorical_accuracy improved from 0.98832 to 0.98891, saving model to densenet121_bocr.h5\n",
            "Epoch 56/250\n",
            "117/117 [==============================] - 13s 108ms/step - loss: 4.6984e-04 - categorical_accuracy: 1.0000 - val_loss: 0.0530 - val_categorical_accuracy: 0.9892\n",
            "\n",
            "Epoch 00056: val_categorical_accuracy improved from 0.98891 to 0.98925, saving model to densenet121_bocr.h5\n",
            "Epoch 57/250\n",
            "117/117 [==============================] - 12s 107ms/step - loss: 3.9493e-04 - categorical_accuracy: 1.0000 - val_loss: 0.0506 - val_categorical_accuracy: 0.9890\n",
            "\n",
            "Epoch 00057: val_categorical_accuracy did not improve from 0.98925\n",
            "Epoch 58/250\n",
            "117/117 [==============================] - 12s 107ms/step - loss: 3.2939e-04 - categorical_accuracy: 1.0000 - val_loss: 0.0517 - val_categorical_accuracy: 0.9891\n",
            "\n",
            "Epoch 00058: val_categorical_accuracy did not improve from 0.98925\n",
            "Epoch 59/250\n",
            "117/117 [==============================] - 13s 111ms/step - loss: 3.4438e-04 - categorical_accuracy: 1.0000 - val_loss: 0.0514 - val_categorical_accuracy: 0.9892\n",
            "\n",
            "Epoch 00059: val_categorical_accuracy did not improve from 0.98925\n",
            "Epoch 60/250\n",
            "117/117 [==============================] - 13s 107ms/step - loss: 3.2832e-04 - categorical_accuracy: 1.0000 - val_loss: 0.0519 - val_categorical_accuracy: 0.9881\n",
            "\n",
            "Epoch 00060: val_categorical_accuracy did not improve from 0.98925\n",
            "Epoch 61/250\n",
            "117/117 [==============================] - 12s 107ms/step - loss: 3.3619e-04 - categorical_accuracy: 1.0000 - val_loss: 0.0511 - val_categorical_accuracy: 0.9882\n",
            "\n",
            "Epoch 00061: val_categorical_accuracy did not improve from 0.98925\n",
            "Epoch 62/250\n",
            "117/117 [==============================] - 12s 106ms/step - loss: 2.2016e-04 - categorical_accuracy: 1.0000 - val_loss: 0.0515 - val_categorical_accuracy: 0.9886\n",
            "\n",
            "Epoch 00062: val_categorical_accuracy did not improve from 0.98925\n",
            "Epoch 63/250\n",
            "117/117 [==============================] - 13s 110ms/step - loss: 2.3163e-04 - categorical_accuracy: 1.0000 - val_loss: 0.0513 - val_categorical_accuracy: 0.9883\n",
            "\n",
            "Epoch 00063: val_categorical_accuracy did not improve from 0.98925\n",
            "Epoch 64/250\n",
            "117/117 [==============================] - 13s 110ms/step - loss: 2.4890e-04 - categorical_accuracy: 1.0000 - val_loss: 0.0508 - val_categorical_accuracy: 0.9886\n",
            "\n",
            "Epoch 00064: val_categorical_accuracy did not improve from 0.98925\n",
            "Epoch 65/250\n",
            "117/117 [==============================] - 13s 111ms/step - loss: 2.2047e-04 - categorical_accuracy: 1.0000 - val_loss: 0.0506 - val_categorical_accuracy: 0.9893\n",
            "\n",
            "Epoch 00065: val_categorical_accuracy improved from 0.98925 to 0.98933, saving model to densenet121_bocr.h5\n",
            "Epoch 66/250\n",
            "117/117 [==============================] - 12s 105ms/step - loss: 2.1443e-04 - categorical_accuracy: 1.0000 - val_loss: 0.0514 - val_categorical_accuracy: 0.9887\n",
            "\n",
            "Epoch 00066: val_categorical_accuracy did not improve from 0.98933\n",
            "Epoch 67/250\n",
            "117/117 [==============================] - 12s 107ms/step - loss: 2.6746e-04 - categorical_accuracy: 1.0000 - val_loss: 0.0504 - val_categorical_accuracy: 0.9879\n",
            "\n",
            "Epoch 00067: val_categorical_accuracy did not improve from 0.98933\n",
            "Epoch 68/250\n",
            "117/117 [==============================] - 12s 107ms/step - loss: 1.6279e-04 - categorical_accuracy: 1.0000 - val_loss: 0.0504 - val_categorical_accuracy: 0.9876\n",
            "\n",
            "Epoch 00068: val_categorical_accuracy did not improve from 0.98933\n",
            "Epoch 69/250\n",
            "117/117 [==============================] - 13s 112ms/step - loss: 2.8036e-04 - categorical_accuracy: 1.0000 - val_loss: 0.0494 - val_categorical_accuracy: 0.9887\n",
            "\n",
            "Epoch 00069: val_categorical_accuracy did not improve from 0.98933\n",
            "Epoch 70/250\n",
            "117/117 [==============================] - 13s 112ms/step - loss: 1.7221e-04 - categorical_accuracy: 1.0000 - val_loss: 0.0522 - val_categorical_accuracy: 0.9884\n",
            "\n",
            "Epoch 00070: val_categorical_accuracy did not improve from 0.98933\n",
            "Epoch 71/250\n",
            "117/117 [==============================] - 13s 110ms/step - loss: 1.5352e-04 - categorical_accuracy: 1.0000 - val_loss: 0.0511 - val_categorical_accuracy: 0.9880\n",
            "\n",
            "Epoch 00071: val_categorical_accuracy did not improve from 0.98933\n",
            "Epoch 72/250\n",
            "117/117 [==============================] - 13s 110ms/step - loss: 2.5749e-04 - categorical_accuracy: 1.0000 - val_loss: 0.0516 - val_categorical_accuracy: 0.9883\n",
            "\n",
            "Epoch 00072: val_categorical_accuracy did not improve from 0.98933\n",
            "Epoch 73/250\n",
            "117/117 [==============================] - 13s 111ms/step - loss: 1.4275e-04 - categorical_accuracy: 1.0000 - val_loss: 0.0509 - val_categorical_accuracy: 0.9884\n",
            "\n",
            "Epoch 00073: val_categorical_accuracy did not improve from 0.98933\n",
            "Epoch 74/250\n",
            "117/117 [==============================] - 13s 110ms/step - loss: 1.8475e-04 - categorical_accuracy: 1.0000 - val_loss: 0.0494 - val_categorical_accuracy: 0.9884\n",
            "\n",
            "Epoch 00074: val_categorical_accuracy did not improve from 0.98933\n",
            "Epoch 75/250\n",
            "117/117 [==============================] - 13s 110ms/step - loss: 1.8054e-04 - categorical_accuracy: 1.0000 - val_loss: 0.0544 - val_categorical_accuracy: 0.9878\n",
            "\n",
            "Epoch 00075: val_categorical_accuracy did not improve from 0.98933\n",
            "Epoch 76/250\n",
            "117/117 [==============================] - 13s 110ms/step - loss: 1.1940e-04 - categorical_accuracy: 1.0000 - val_loss: 0.0520 - val_categorical_accuracy: 0.9877\n",
            "\n",
            "Epoch 00076: val_categorical_accuracy did not improve from 0.98933\n",
            "Epoch 77/250\n",
            "117/117 [==============================] - 13s 110ms/step - loss: 1.5014e-04 - categorical_accuracy: 1.0000 - val_loss: 0.0515 - val_categorical_accuracy: 0.9886\n",
            "\n",
            "Epoch 00077: val_categorical_accuracy did not improve from 0.98933\n",
            "Epoch 78/250\n",
            "117/117 [==============================] - 13s 111ms/step - loss: 8.9574e-05 - categorical_accuracy: 1.0000 - val_loss: 0.0523 - val_categorical_accuracy: 0.9887\n",
            "\n",
            "Epoch 00078: val_categorical_accuracy did not improve from 0.98933\n",
            "Epoch 79/250\n",
            "117/117 [==============================] - 13s 111ms/step - loss: 1.1979e-04 - categorical_accuracy: 1.0000 - val_loss: 0.0516 - val_categorical_accuracy: 0.9887\n",
            "\n",
            "Epoch 00079: val_categorical_accuracy did not improve from 0.98933\n",
            "\n",
            "Epoch 00079: ReduceLROnPlateau reducing learning rate to 1.0000000474974514e-05.\n",
            "Epoch 80/250\n",
            "117/117 [==============================] - 13s 110ms/step - loss: 1.1007e-04 - categorical_accuracy: 1.0000 - val_loss: 0.0514 - val_categorical_accuracy: 0.9886\n",
            "\n",
            "Epoch 00080: val_categorical_accuracy did not improve from 0.98933\n",
            "Epoch 81/250\n",
            "117/117 [==============================] - 13s 110ms/step - loss: 9.8706e-05 - categorical_accuracy: 1.0000 - val_loss: 0.0530 - val_categorical_accuracy: 0.9882\n",
            "\n",
            "Epoch 00081: val_categorical_accuracy did not improve from 0.98933\n",
            "Epoch 82/250\n",
            "117/117 [==============================] - 13s 110ms/step - loss: 1.0291e-04 - categorical_accuracy: 1.0000 - val_loss: 0.0530 - val_categorical_accuracy: 0.9883\n",
            "\n",
            "Epoch 00082: val_categorical_accuracy did not improve from 0.98933\n",
            "Epoch 83/250\n",
            "117/117 [==============================] - 13s 111ms/step - loss: 1.2788e-04 - categorical_accuracy: 1.0000 - val_loss: 0.0530 - val_categorical_accuracy: 0.9884\n",
            "\n",
            "Epoch 00083: val_categorical_accuracy did not improve from 0.98933\n",
            "Epoch 84/250\n",
            "117/117 [==============================] - 12s 106ms/step - loss: 1.1171e-04 - categorical_accuracy: 1.0000 - val_loss: 0.0528 - val_categorical_accuracy: 0.9882\n",
            "\n",
            "Epoch 00084: val_categorical_accuracy did not improve from 0.98933\n",
            "Epoch 00084: early stopping\n"
          ],
          "name": "stdout"
        }
      ]
    },
    {
      "cell_type": "markdown",
      "metadata": {
        "id": "q4oacOBk4F0b"
      },
      "source": [
        "## Model history"
      ]
    },
    {
      "cell_type": "code",
      "metadata": {
        "colab": {
          "base_uri": "https://localhost:8080/",
          "height": 320
        },
        "id": "SqdWXP41p5c6",
        "outputId": "657d24cd-d07f-4ba7-9608-c40b54d60488"
      },
      "source": [
        "def plot_history(history):\n",
        "    \"\"\"\n",
        "    Plots model training history \n",
        "    \"\"\"\n",
        "    fig, (ax_loss, ax_acc) = plt.subplots(1, 2, figsize=(15,5))\n",
        "    ax_loss.plot(history.epoch, history.history[\"loss\"], label=\"Train loss\")\n",
        "    ax_loss.plot(history.epoch, history.history[\"val_loss\"], label=\"Validation loss\")\n",
        "    ax_loss.legend()\n",
        "    ax_acc.plot(history.epoch, history.history[\"categorical_accuracy\"], label=\"Train IoU\")\n",
        "    ax_acc.plot(history.epoch, history.history[\"val_categorical_accuracy\"], label=\"Validation IoU\")\n",
        "    ax_acc.legend()\n",
        "    plt.show()\n",
        "\n",
        "    # show history\n",
        "plot_history(history)"
      ],
      "execution_count": 15,
      "outputs": [
        {
          "output_type": "display_data",
          "data": {
            "image/png": "[encoded data removed]",
            "text/plain": [
              "<Figure size 1080x360 with 2 Axes>"
            ]
          },
          "metadata": {
            "tags": [],
            "needs_background": "light"
          }
        }
      ]
    },
    {
      "cell_type": "markdown",
      "metadata": {
        "id": "_AuT59Kj4Od0"
      },
      "source": [
        "# Predictions\n",
        "**Helpers**\n",
        "* USE binary functions only with binary images"
      ]
    },
    {
      "cell_type": "code",
      "metadata": {
        "id": "NnwoZUzSqUWj"
      },
      "source": [
        "import cv2\n",
        "from glob import glob \n",
        "def stripPads(arr,val):\n",
        "    '''\n",
        "        strip specific values\n",
        "    '''\n",
        "    arr=arr[~np.all(arr == val, axis=1)]\n",
        "    arr=arr[:, ~np.all(arr == val, axis=0)]\n",
        "    return arr\n",
        "def binary_thresh(img):\n",
        "    # Otsu's thresholding after Gaussian filtering\n",
        "    blur = cv2.GaussianBlur(img,(5,5),0)\n",
        "    _,img = cv2.threshold(blur,0,255,cv2.THRESH_BINARY+cv2.THRESH_OTSU)\n",
        "    return img  \n",
        "\n",
        "def binary_inversion(img):\n",
        "    img = img/255\n",
        "    img = 1 - img\n",
        "    return img\n",
        "\n",
        "def binary_revert(img):\n",
        "    img = 1 -img\n",
        "    img = img*255\n",
        "    img=img.astype('uint8')\n",
        "    return img\n",
        "    \n",
        "\n",
        "  \n",
        "\n",
        "\n"
      ],
      "execution_count": 30,
      "outputs": []
    },
    {
      "cell_type": "markdown",
      "metadata": {
        "id": "yIwPLCaX60Ix"
      },
      "source": [
        "**THIS FUNCTION WILL CHANGE ON BINARY DATA**"
      ]
    },
    {
      "cell_type": "code",
      "metadata": {
        "id": "vGICXNc26yrL"
      },
      "source": [
        "def binary_check(img):\n",
        "  img = cv2.dilate(img,(3,3),\n",
        "                   iterations = 10) \n",
        "  return img"
      ],
      "execution_count": 37,
      "outputs": []
    },
    {
      "cell_type": "markdown",
      "metadata": {
        "id": "wyr62pPj5RW7"
      },
      "source": [
        "## Prediction Data processing\n",
        "* Create a folder called **data** and upload all the images there\n",
        "* For using TPU the number of data has to be > = 8"
      ]
    },
    {
      "cell_type": "code",
      "metadata": {
        "colab": {
          "base_uri": "https://localhost:8080/"
        },
        "id": "ZG8Hyu6x5Cjo",
        "outputId": "52e3620e-bb6e-46f6-dc79-1682d5b8244c"
      },
      "source": [
        "data=[]\n",
        "for img_path in glob(os.path.join(os.getcwd(),'data','*.*')):\n",
        "  # read image\n",
        "  if IMAGE_TYPE=='rgb':\n",
        "    img=cv2.imread(img_path)\n",
        "  else:\n",
        "    img=cv2.imread(img_path,0)\n",
        "  # check binary ops\n",
        "  if IMAGE_TYPE=='binary':\n",
        "    img=binary_thresh(img)\n",
        "    img=stripPads(img,255)\n",
        "    img=cv2.resize(img,(IMG_DIM,IMG_DIM))\n",
        "    img=binary_thresh(img)\n",
        "    img=binary_inversion(img)\n",
        "    img=binary_check(img)\n",
        "    img=binary_revert(img)\n",
        "    \n",
        "  else:\n",
        "    img=cv2.resize(img,(IMG_DIM,IMG_DIM))\n",
        "    \n",
        "  img=np.expand_dims(img,axis=-1)\n",
        "  if IMAGE_TYPE!='rgb':\n",
        "    img=np.expand_dims(img,axis=0)\n",
        "  \n",
        "  data.append(img)\n",
        "\n",
        "if len(data)<8:\n",
        "  # fill the rest with first data\n",
        "  for i in range(8-len(data)):\n",
        "    data.append(data[0])\n",
        "# stack\n",
        "data=np.vstack(data)\n",
        "# normalize and float conversion\n",
        "data=data/255.0\n",
        "data.shape\n",
        "\n"
      ],
      "execution_count": 38,
      "outputs": [
        {
          "output_type": "execute_result",
          "data": {
            "text/plain": [
              "(8, 128, 128, 1)"
            ]
          },
          "metadata": {
            "tags": []
          },
          "execution_count": 38
        }
      ]
    },
    {
      "cell_type": "markdown",
      "metadata": {
        "id": "cvFgNGjo7gB0"
      },
      "source": [
        "## Display Predictions"
      ]
    },
    {
      "cell_type": "code",
      "metadata": {
        "colab": {
          "base_uri": "https://localhost:8080/",
          "height": 1000
        },
        "id": "OMX6Sssxrck1",
        "outputId": "962c507e-00f9-41de-c483-d6d4548d5026"
      },
      "source": [
        "preds=model.predict(data)\n",
        "for pred,img in zip(preds,data):\n",
        "  img=img*255\n",
        "  img=img.astype('uint8')\n",
        "  plt.imshow(np.squeeze(img))\n",
        "  plt.show()\n",
        "  print(LABELS[np.argmax(pred)])\n"
      ],
      "execution_count": 39,
      "outputs": [
        {
          "output_type": "display_data",
          "data": {
            "image/png": "[encoded data removed]",
            "text/plain": [
              "<Figure size 432x288 with 1 Axes>"
            ]
          },
          "metadata": {
            "tags": [],
            "needs_background": "light"
          }
        },
        {
          "output_type": "stream",
          "text": [
            "185\n"
          ],
          "name": "stdout"
        },
        {
          "output_type": "display_data",
          "data": {
            "image/png": "[encoded data removed]",
            "text/plain": [
              "<Figure size 432x288 with 1 Axes>"
            ]
          },
          "metadata": {
            "tags": [],
            "needs_background": "light"
          }
        },
        {
          "output_type": "stream",
          "text": [
            "212\n"
          ],
          "name": "stdout"
        },
        {
          "output_type": "display_data",
          "data": {
            "image/png": "[encoded data removed]",
            "text/plain": [
              "<Figure size 432x288 with 1 Axes>"
            ]
          },
          "metadata": {
            "tags": [],
            "needs_background": "light"
          }
        },
        {
          "output_type": "stream",
          "text": [
            "207\n"
          ],
          "name": "stdout"
        },
        {
          "output_type": "display_data",
          "data": {
            "image/png": "[encoded data removed]",
            "text/plain": [
              "<Figure size 432x288 with 1 Axes>"
            ]
          },
          "metadata": {
            "tags": [],
            "needs_background": "light"
          }
        },
        {
          "output_type": "stream",
          "text": [
            "219\n"
          ],
          "name": "stdout"
        },
        {
          "output_type": "display_data",
          "data": {
            "image/png": "[encoded data removed]",
            "text/plain": [
              "<Figure size 432x288 with 1 Axes>"
            ]
          },
          "metadata": {
            "tags": [],
            "needs_background": "light"
          }
        },
        {
          "output_type": "stream",
          "text": [
            "210\n"
          ],
          "name": "stdout"
        },
        {
          "output_type": "display_data",
          "data": {
            "image/png": "[encoded data removed]",
            "text/plain": [
              "<Figure size 432x288 with 1 Axes>"
            ]
          },
          "metadata": {
            "tags": [],
            "needs_background": "light"
          }
        },
        {
          "output_type": "stream",
          "text": [
            "190\n"
          ],
          "name": "stdout"
        },
        {
          "output_type": "display_data",
          "data": {
            "image/png": "[encoded data removed]",
            "text/plain": [
              "<Figure size 432x288 with 1 Axes>"
            ]
          },
          "metadata": {
            "tags": [],
            "needs_background": "light"
          }
        },
        {
          "output_type": "stream",
          "text": [
            "213\n"
          ],
          "name": "stdout"
        },
        {
          "output_type": "display_data",
          "data": {
            "image/png": "[encoded data removed]",
            "text/plain": [
              "<Figure size 432x288 with 1 Axes>"
            ]
          },
          "metadata": {
            "tags": [],
            "needs_background": "light"
          }
        },
        {
          "output_type": "stream",
          "text": [
            "213\n"
          ],
          "name": "stdout"
        }
      ]
    }
  ]
}