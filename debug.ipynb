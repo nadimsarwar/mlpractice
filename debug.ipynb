{
 "cells": [
  {
   "cell_type": "code",
   "execution_count": 34,
   "id": "affecting-experiment",
   "metadata": {},
   "outputs": [
    {
     "name": "stdout",
     "output_type": "stream",
     "text": [
      "Number of classes: 50\n"
     ]
    },
    {
     "data": {
      "application/vnd.jupyter.widget-view+json": {
       "model_id": "9e74d6691a744c4b89f5fd2fb0bea7cb",
       "version_major": 2,
       "version_minor": 0
      },
      "text/plain": [
       "  0%|          | 0/5 [00:00<?, ?it/s]"
      ]
     },
     "metadata": {},
     "output_type": "display_data"
    },
    {
     "name": "stdout",
     "output_type": "stream",
     "text": [
      "(5, 64, 64, 1) (5, 50)\n"
     ]
    }
   ],
   "source": [
    "# imports\n",
    "import os\n",
    "import random\n",
    "import cv2\n",
    "import numpy as np\n",
    "import matplotlib.pyplot as plt\n",
    "%matplotlib inline\n",
    "\n",
    "from glob import glob\n",
    "from tqdm.notebook import tqdm\n",
    "# globals\n",
    "data_path  =os.path.join(os.getcwd(),'data')\n",
    "train_path =os.path.join(data_path,'Train')\n",
    "test_path  =os.path.join(data_path,'Test')\n",
    "\n",
    "# data labeling and formattimg \n",
    "'''\n",
    "    for each folder map the image from 0 to upperlimit\n",
    "'''\n",
    "dlist=os.listdir(train_path)\n",
    "dlist=[int(d) for d in dlist]\n",
    "dlist.sort()\n",
    "lower_thresh=dlist[0]\n",
    "upper_thresh=dlist[-1]\n",
    "nb_classes=upper_thresh-lower_thresh+1\n",
    "print(\"Number of classes:\",nb_classes)\n",
    "dim=64\n",
    "\n",
    "def preprocessing(_path):\n",
    "    '''\n",
    "        preprocesses an image and label\n",
    "        preprocess ops:\n",
    "            * data shuffle\n",
    "        image ops:\n",
    "            * read\n",
    "            * resize\n",
    "            * thresh\n",
    "            * image to tensor\n",
    "            * convert to float (special case)\n",
    "        label ops:\n",
    "            * extract label from path\n",
    "            * convert to float (special case)\n",
    "        \n",
    "        args:\n",
    "            _path = the path of test dir / train dir where all the images are separated with corresponding labels\n",
    "    '''\n",
    "    X=[]\n",
    "    y=[]\n",
    "    img_paths=glob(os.path.join(_path,'*/*.bmp'))\n",
    "    # shuffle\n",
    "    random.shuffle(img_paths)\n",
    "    # iterate\n",
    "    for img_path in tqdm(img_paths[:5]):\n",
    "        # extract int label from full path\n",
    "        label=int(os.path.basename(os.path.dirname(img_path)))-lower_thresh\n",
    "        # encode label\n",
    "        encoded_label=np.zeros(nb_classes,dtype=np.float)\n",
    "        encoded_label[label]=1\n",
    "        # update\n",
    "        y.append(encoded_label)\n",
    "\n",
    "        # image ops\n",
    "        # read\n",
    "        img=cv2.imread(img_path,0)\n",
    "        # resize\n",
    "        img=cv2.resize(img,(dim,dim))\n",
    "        # Otsu's thresholding after Gaussian filtering\n",
    "        blur = cv2.GaussianBlur(img,(5,5),0)\n",
    "        _,img = cv2.threshold(blur,0,255,cv2.THRESH_BINARY+cv2.THRESH_OTSU)\n",
    "        \n",
    "        # image to tensor\n",
    "        x=np.expand_dims(img,axis=-1)\n",
    "        x=np.expand_dims(x,axis=0)\n",
    "        # float conversion\n",
    "        x=x/255.0\n",
    "        x=1-x\n",
    "        # debug\n",
    "        #plt.imshow(np.squeeze(x))\n",
    "        #plt.show()\n",
    "        # update\n",
    "        X.append(x)\n",
    "        \n",
    "    # stacking\n",
    "    X=np.vstack(X)\n",
    "    y=np.vstack(y)\n",
    "    return X,y\n",
    "x_test,y_test=preprocessing(test_path)\n",
    "print(x_test.shape,y_test.shape)"
   ]
  },
  {
   "cell_type": "code",
   "execution_count": null,
   "id": "major-bacteria",
   "metadata": {},
   "outputs": [],
   "source": []
  }
 ],
 "metadata": {
  "kernelspec": {
   "display_name": "venv",
   "language": "python",
   "name": "venv"
  },
  "language_info": {
   "codemirror_mode": {
    "name": "ipython",
    "version": 3
   },
   "file_extension": ".py",
   "mimetype": "text/x-python",
   "name": "python",
   "nbconvert_exporter": "python",
   "pygments_lexer": "ipython3",
   "version": "3.6.9"
  }
 },
 "nbformat": 4,
 "nbformat_minor": 5
}
